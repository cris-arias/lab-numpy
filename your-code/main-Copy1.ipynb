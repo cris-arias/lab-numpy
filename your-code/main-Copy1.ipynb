{
 "cells": [
  {
   "cell_type": "markdown",
   "metadata": {},
   "source": [
    "# Intrduction to NumPy\n",
    "\n",
    "\n",
    "#### 1. Import NumPy under the name np."
   ]
  },
  {
   "cell_type": "code",
   "execution_count": 1,
   "metadata": {},
   "outputs": [],
   "source": [
    "import numpy as np"
   ]
  },
  {
   "cell_type": "markdown",
   "metadata": {},
   "source": [
    "#### 2. Print your NumPy version."
   ]
  },
  {
   "cell_type": "code",
   "execution_count": 2,
   "metadata": {},
   "outputs": [
    {
     "name": "stdout",
     "output_type": "stream",
     "text": [
      "1.19.0\n"
     ]
    }
   ],
   "source": [
    "print(np.__version__)"
   ]
  },
  {
   "cell_type": "markdown",
   "metadata": {},
   "source": [
    "#### 3. Generate a 2x3x5 3-dimensional array with random values. Assign the array to variable *a*.\n",
    "**Challenge**: there are at least three easy ways that use numpy to generate random arrays. How many ways can you find?"
   ]
  },
  {
   "cell_type": "code",
   "execution_count": 8,
   "metadata": {
    "scrolled": true
   },
   "outputs": [
    {
     "data": {
      "text/plain": [
       "array([[[0.84640052, 0.08774289, 0.47967939, 0.45758395, 0.71705028],\n",
       "        [0.39864942, 0.29083053, 0.25224633, 0.65403261, 0.74964604],\n",
       "        [0.79200346, 0.37745669, 0.37617898, 0.48345322, 0.55624696]],\n",
       "\n",
       "       [[0.82962841, 0.50852403, 0.97213313, 0.6180414 , 0.76485941],\n",
       "        [0.72948176, 0.10496678, 0.94484886, 0.64745577, 0.9152072 ],\n",
       "        [0.06226256, 0.19286457, 0.2544667 , 0.81817108, 0.6645725 ]]])"
      ]
     },
     "execution_count": 8,
     "metadata": {},
     "output_type": "execute_result"
    }
   ],
   "source": [
    "# Method 1\n",
    "a=np.random.random((2,3,5))\n",
    "a"
   ]
  },
  {
   "cell_type": "code",
   "execution_count": 9,
   "metadata": {},
   "outputs": [
    {
     "data": {
      "text/plain": [
       "array([[[0.26465187, 0.84534348, 0.58265987, 0.19421101, 0.11196354],\n",
       "        [0.30581437, 0.27330668, 0.15002856, 0.1897077 , 0.93834643],\n",
       "        [0.50649973, 0.19680161, 0.74140158, 0.44964425, 0.96786104]],\n",
       "\n",
       "       [[0.15382622, 0.71945816, 0.5667323 , 0.88646575, 0.13087047],\n",
       "        [0.04208048, 0.56380446, 0.99034603, 0.8938054 , 0.10352576],\n",
       "        [0.50535124, 0.26288023, 0.61527069, 0.26794581, 0.26082389]]])"
      ]
     },
     "execution_count": 9,
     "metadata": {},
     "output_type": "execute_result"
    }
   ],
   "source": [
    "# Method 2\n",
    "from numpy import random\n",
    "a2=np.random.rand(2,3,5)\n",
    "a2"
   ]
  },
  {
   "cell_type": "code",
   "execution_count": 12,
   "metadata": {},
   "outputs": [
    {
     "data": {
      "text/plain": [
       "array([[[4, 1, 2, 5, 1],\n",
       "        [3, 6, 1, 8, 9],\n",
       "        [6, 2, 7, 9, 6]],\n",
       "\n",
       "       [[0, 1, 4, 7, 0],\n",
       "        [3, 5, 0, 8, 7],\n",
       "        [0, 1, 9, 3, 1]]])"
      ]
     },
     "execution_count": 12,
     "metadata": {},
     "output_type": "execute_result"
    }
   ],
   "source": [
    "# Method 3\n",
    "a3=np.random.randint(0, 10, (2,3,5))\n",
    "a3"
   ]
  },
  {
   "cell_type": "markdown",
   "metadata": {},
   "source": [
    "#### 4. Print *a*.\n"
   ]
  },
  {
   "cell_type": "code",
   "execution_count": 13,
   "metadata": {},
   "outputs": [
    {
     "name": "stdout",
     "output_type": "stream",
     "text": [
      "[[[0.84640052 0.08774289 0.47967939 0.45758395 0.71705028]\n",
      "  [0.39864942 0.29083053 0.25224633 0.65403261 0.74964604]\n",
      "  [0.79200346 0.37745669 0.37617898 0.48345322 0.55624696]]\n",
      "\n",
      " [[0.82962841 0.50852403 0.97213313 0.6180414  0.76485941]\n",
      "  [0.72948176 0.10496678 0.94484886 0.64745577 0.9152072 ]\n",
      "  [0.06226256 0.19286457 0.2544667  0.81817108 0.6645725 ]]]\n"
     ]
    }
   ],
   "source": [
    "print(a)"
   ]
  },
  {
   "cell_type": "markdown",
   "metadata": {},
   "source": [
    "#### 5. Create a 5x2x3 3-dimensional array with all values equaling 1. Assign the array to variable *b*."
   ]
  },
  {
   "cell_type": "code",
   "execution_count": 20,
   "metadata": {},
   "outputs": [],
   "source": [
    "# Create a list of 5*2*3=30 elements\n",
    "b=np.ones((5,2,3), dtype=int)"
   ]
  },
  {
   "cell_type": "markdown",
   "metadata": {},
   "source": [
    "#### 6. Print *b*.\n"
   ]
  },
  {
   "cell_type": "code",
   "execution_count": 21,
   "metadata": {},
   "outputs": [
    {
     "name": "stdout",
     "output_type": "stream",
     "text": [
      "[[[1 1 1]\n",
      "  [1 1 1]]\n",
      "\n",
      " [[1 1 1]\n",
      "  [1 1 1]]\n",
      "\n",
      " [[1 1 1]\n",
      "  [1 1 1]]\n",
      "\n",
      " [[1 1 1]\n",
      "  [1 1 1]]\n",
      "\n",
      " [[1 1 1]\n",
      "  [1 1 1]]]\n"
     ]
    }
   ],
   "source": [
    "print(b)"
   ]
  },
  {
   "cell_type": "markdown",
   "metadata": {},
   "source": [
    "#### 7. Do *a* and *b* have the same size? How do you prove that in Python code?"
   ]
  },
  {
   "cell_type": "code",
   "execution_count": 24,
   "metadata": {
    "scrolled": true
   },
   "outputs": [
    {
     "data": {
      "text/plain": [
       "(2, 3, 5)"
      ]
     },
     "execution_count": 24,
     "metadata": {},
     "output_type": "execute_result"
    }
   ],
   "source": [
    "a.shape"
   ]
  },
  {
   "cell_type": "code",
   "execution_count": 25,
   "metadata": {},
   "outputs": [
    {
     "data": {
      "text/plain": [
       "(5, 2, 3)"
      ]
     },
     "execution_count": 25,
     "metadata": {},
     "output_type": "execute_result"
    }
   ],
   "source": [
    "b.shape"
   ]
  },
  {
   "cell_type": "markdown",
   "metadata": {},
   "source": [
    "#### 8. Are you able to add *a* and *b*? Why or why not?\n"
   ]
  },
  {
   "cell_type": "code",
   "execution_count": 26,
   "metadata": {},
   "outputs": [
    {
     "ename": "ValueError",
     "evalue": "operands could not be broadcast together with shapes (2,3,5) (5,2,3) ",
     "output_type": "error",
     "traceback": [
      "\u001b[0;31m---------------------------------------------------------------------------\u001b[0m",
      "\u001b[0;31mValueError\u001b[0m                                Traceback (most recent call last)",
      "\u001b[0;32m<ipython-input-26-070e7ae4017a>\u001b[0m in \u001b[0;36m<module>\u001b[0;34m\u001b[0m\n\u001b[0;32m----> 1\u001b[0;31m \u001b[0ma\u001b[0m\u001b[0;34m+\u001b[0m\u001b[0mb\u001b[0m\u001b[0;34m\u001b[0m\u001b[0;34m\u001b[0m\u001b[0m\n\u001b[0m\u001b[1;32m      2\u001b[0m \u001b[0;31m# Arrays can only be added when they have a similar shape\u001b[0m\u001b[0;34m\u001b[0m\u001b[0;34m\u001b[0m\u001b[0;34m\u001b[0m\u001b[0m\n",
      "\u001b[0;31mValueError\u001b[0m: operands could not be broadcast together with shapes (2,3,5) (5,2,3) "
     ]
    }
   ],
   "source": [
    "a+b\n",
    "# Arrays can only be added when they have a similar shape"
   ]
  },
  {
   "cell_type": "markdown",
   "metadata": {},
   "source": [
    "#### 9. Transpose *b* so that it has the same structure of *a* (i.e. become a 2x3x5 array). Assign the transposed array to variable *c*."
   ]
  },
  {
   "cell_type": "code",
   "execution_count": 30,
   "metadata": {
    "scrolled": true
   },
   "outputs": [
    {
     "data": {
      "text/plain": [
       "array([[[1, 1, 1, 1, 1],\n",
       "        [1, 1, 1, 1, 1],\n",
       "        [1, 1, 1, 1, 1]],\n",
       "\n",
       "       [[1, 1, 1, 1, 1],\n",
       "        [1, 1, 1, 1, 1],\n",
       "        [1, 1, 1, 1, 1]]])"
      ]
     },
     "execution_count": 30,
     "metadata": {},
     "output_type": "execute_result"
    }
   ],
   "source": [
    "c=b.reshape(2,3,5)\n",
    "c"
   ]
  },
  {
   "cell_type": "markdown",
   "metadata": {},
   "source": [
    "#### 10. Try to add *a* and *c*. Now it should work. Assign the sum to variable *d*. But why does it work now?"
   ]
  },
  {
   "cell_type": "code",
   "execution_count": 33,
   "metadata": {},
   "outputs": [
    {
     "data": {
      "text/plain": [
       "array([[[1.84640052, 1.08774289, 1.47967939, 1.45758395, 1.71705028],\n",
       "        [1.39864942, 1.29083053, 1.25224633, 1.65403261, 1.74964604],\n",
       "        [1.79200346, 1.37745669, 1.37617898, 1.48345322, 1.55624696]],\n",
       "\n",
       "       [[1.82962841, 1.50852403, 1.97213313, 1.6180414 , 1.76485941],\n",
       "        [1.72948176, 1.10496678, 1.94484886, 1.64745577, 1.9152072 ],\n",
       "        [1.06226256, 1.19286457, 1.2544667 , 1.81817108, 1.6645725 ]]])"
      ]
     },
     "execution_count": 33,
     "metadata": {},
     "output_type": "execute_result"
    }
   ],
   "source": [
    "d=a+c\n",
    "d"
   ]
  },
  {
   "cell_type": "markdown",
   "metadata": {},
   "source": [
    "#### 11. Print *a* and *d*. Notice the difference and relation of the two array in terms of the values? Explain."
   ]
  },
  {
   "cell_type": "code",
   "execution_count": 35,
   "metadata": {
    "scrolled": true
   },
   "outputs": [
    {
     "name": "stdout",
     "output_type": "stream",
     "text": [
      "[[[0.84640052 0.08774289 0.47967939 0.45758395 0.71705028]\n",
      "  [0.39864942 0.29083053 0.25224633 0.65403261 0.74964604]\n",
      "  [0.79200346 0.37745669 0.37617898 0.48345322 0.55624696]]\n",
      "\n",
      " [[0.82962841 0.50852403 0.97213313 0.6180414  0.76485941]\n",
      "  [0.72948176 0.10496678 0.94484886 0.64745577 0.9152072 ]\n",
      "  [0.06226256 0.19286457 0.2544667  0.81817108 0.6645725 ]]]\n",
      "[[[1.84640052 1.08774289 1.47967939 1.45758395 1.71705028]\n",
      "  [1.39864942 1.29083053 1.25224633 1.65403261 1.74964604]\n",
      "  [1.79200346 1.37745669 1.37617898 1.48345322 1.55624696]]\n",
      "\n",
      " [[1.82962841 1.50852403 1.97213313 1.6180414  1.76485941]\n",
      "  [1.72948176 1.10496678 1.94484886 1.64745577 1.9152072 ]\n",
      "  [1.06226256 1.19286457 1.2544667  1.81817108 1.6645725 ]]]\n"
     ]
    }
   ],
   "source": [
    "print(a)\n",
    "\n",
    "print(d)\n",
    "# both have the same shape. Array d has the same values as \"a\" plus 1"
   ]
  },
  {
   "cell_type": "markdown",
   "metadata": {},
   "source": [
    "#### 12. Multiply *a* and *c*. Assign the result to *e*."
   ]
  },
  {
   "cell_type": "code",
   "execution_count": 36,
   "metadata": {},
   "outputs": [
    {
     "data": {
      "text/plain": [
       "array([[[0.84640052, 0.08774289, 0.47967939, 0.45758395, 0.71705028],\n",
       "        [0.39864942, 0.29083053, 0.25224633, 0.65403261, 0.74964604],\n",
       "        [0.79200346, 0.37745669, 0.37617898, 0.48345322, 0.55624696]],\n",
       "\n",
       "       [[0.82962841, 0.50852403, 0.97213313, 0.6180414 , 0.76485941],\n",
       "        [0.72948176, 0.10496678, 0.94484886, 0.64745577, 0.9152072 ],\n",
       "        [0.06226256, 0.19286457, 0.2544667 , 0.81817108, 0.6645725 ]]])"
      ]
     },
     "execution_count": 36,
     "metadata": {},
     "output_type": "execute_result"
    }
   ],
   "source": [
    "e=a*c\n",
    "e"
   ]
  },
  {
   "cell_type": "markdown",
   "metadata": {},
   "source": [
    "#### 13. Does *e* equal to *a*? Why or why not?\n"
   ]
  },
  {
   "cell_type": "code",
   "execution_count": 37,
   "metadata": {
    "scrolled": true
   },
   "outputs": [
    {
     "name": "stdout",
     "output_type": "stream",
     "text": [
      "[[[0.84640052 0.08774289 0.47967939 0.45758395 0.71705028]\n",
      "  [0.39864942 0.29083053 0.25224633 0.65403261 0.74964604]\n",
      "  [0.79200346 0.37745669 0.37617898 0.48345322 0.55624696]]\n",
      "\n",
      " [[0.82962841 0.50852403 0.97213313 0.6180414  0.76485941]\n",
      "  [0.72948176 0.10496678 0.94484886 0.64745577 0.9152072 ]\n",
      "  [0.06226256 0.19286457 0.2544667  0.81817108 0.6645725 ]]]\n",
      "[[[0.84640052 0.08774289 0.47967939 0.45758395 0.71705028]\n",
      "  [0.39864942 0.29083053 0.25224633 0.65403261 0.74964604]\n",
      "  [0.79200346 0.37745669 0.37617898 0.48345322 0.55624696]]\n",
      "\n",
      " [[0.82962841 0.50852403 0.97213313 0.6180414  0.76485941]\n",
      "  [0.72948176 0.10496678 0.94484886 0.64745577 0.9152072 ]\n",
      "  [0.06226256 0.19286457 0.2544667  0.81817108 0.6645725 ]]]\n"
     ]
    }
   ],
   "source": [
    "print(e)\n",
    "\n",
    "print(a)\n",
    "\n",
    "# They are equal because e=a*1"
   ]
  },
  {
   "cell_type": "markdown",
   "metadata": {},
   "source": [
    "#### 14. Identify the max, min, and mean values in *d*. Assign those values to variables *d_max*, *d_min* and *d_mean*."
   ]
  },
  {
   "cell_type": "code",
   "execution_count": 44,
   "metadata": {},
   "outputs": [],
   "source": [
    "d_max=np.max(d)\n",
    "d_min=np.min(d)\n",
    "d_mean=np.mean(d)"
   ]
  },
  {
   "cell_type": "markdown",
   "metadata": {},
   "source": [
    "#### 15. Now we want to label the values in *d*. First create an empty array *f* with the same shape (i.e. 2x3x5) as *d* using `np.empty`.\n"
   ]
  },
  {
   "cell_type": "code",
   "execution_count": 49,
   "metadata": {},
   "outputs": [
    {
     "name": "stdout",
     "output_type": "stream",
     "text": [
      "[[[1.84640052 1.08774289 1.47967939 1.45758395 1.71705028]\n",
      "  [1.39864942 1.29083053 1.25224633 1.65403261 1.74964604]\n",
      "  [1.79200346 1.37745669 1.37617898 1.48345322 1.55624696]]\n",
      "\n",
      " [[1.82962841 1.50852403 1.97213313 1.6180414  1.76485941]\n",
      "  [1.72948176 1.10496678 1.94484886 1.64745577 1.9152072 ]\n",
      "  [1.06226256 1.19286457 1.2544667  1.81817108 1.6645725 ]]]\n"
     ]
    }
   ],
   "source": [
    "f=np.empty((2,3,5))\n",
    "print(f)"
   ]
  },
  {
   "cell_type": "markdown",
   "metadata": {},
   "source": [
    "#### 16. Populate the values in *f*. \n",
    "\n",
    "For each value in *d*, if it's larger than *d_min* but smaller than *d_mean*, assign 25 to the corresponding value in *f*. If a value in *d* is larger than *d_mean* but smaller than *d_max*, assign 75 to the corresponding value in *f*. If a value equals to *d_mean*, assign 50 to the corresponding value in *f*. Assign 0 to the corresponding value(s) in *f* for *d_min* in *d*. Assign 100 to the corresponding value(s) in *f* for *d_max* in *d*. In the end, f should have only the following values: 0, 25, 50, 75, and 100.\n",
    "\n",
    "**Note**: you don't have to use Numpy in this question."
   ]
  },
  {
   "cell_type": "code",
   "execution_count": 50,
   "metadata": {},
   "outputs": [],
   "source": [
    "f[(d > d_min) & (d < d_mean)]=25\n",
    "f[(d > d_mean) & (d < d_max)]=75\n",
    "f[d == d_mean] =50\n",
    "f[d == d_min] =0\n",
    "f[d == d_max] =100"
   ]
  },
  {
   "cell_type": "markdown",
   "metadata": {},
   "source": [
    "#### 17. Print *d* and *f*. Do you have your expected *f*?\n",
    "For instance, if your *d* is:\n",
    "```python\n",
    "[[[1.85836099, 1.67064465, 1.62576044, 1.40243961, 1.88454931],\n",
    "[1.75354326, 1.69403643, 1.36729252, 1.61415071, 1.12104981],\n",
    "[1.72201435, 1.1862918 , 1.87078449, 1.7726778 , 1.88180042]],\n",
    "[[1.44747908, 1.31673383, 1.02000951, 1.52218947, 1.97066381],\n",
    "[1.79129243, 1.74983003, 1.96028037, 1.85166831, 1.65450881],\n",
    "[1.18068344, 1.9587381 , 1.00656599, 1.93402165, 1.73514584]]]\n",
    "```\n",
    "Your *f* should be:\n",
    "```python\n",
    "[[[ 75.,  75.,  75.,  25.,  75.],\n",
    "[ 75.,  75.,  25.,  25.,  25.],\n",
    "[ 75.,  25.,  75.,  75.,  75.]],\n",
    "[[ 25.,  25.,  25.,  25., 100.],\n",
    "[ 75.,  75.,  75.,  75.,  75.],\n",
    "[ 25.,  75.,   0.,  75.,  75.]]]\n",
    "```"
   ]
  },
  {
   "cell_type": "code",
   "execution_count": 51,
   "metadata": {},
   "outputs": [
    {
     "name": "stdout",
     "output_type": "stream",
     "text": [
      "[[[1.84640052 1.08774289 1.47967939 1.45758395 1.71705028]\n",
      "  [1.39864942 1.29083053 1.25224633 1.65403261 1.74964604]\n",
      "  [1.79200346 1.37745669 1.37617898 1.48345322 1.55624696]]\n",
      "\n",
      " [[1.82962841 1.50852403 1.97213313 1.6180414  1.76485941]\n",
      "  [1.72948176 1.10496678 1.94484886 1.64745577 1.9152072 ]\n",
      "  [1.06226256 1.19286457 1.2544667  1.81817108 1.6645725 ]]]\n",
      "[[[ 75.  25.  25.  25.  75.]\n",
      "  [ 25.  25.  25.  75.  75.]\n",
      "  [ 75.  25.  25.  25.  75.]]\n",
      "\n",
      " [[ 75.  25. 100.  75.  75.]\n",
      "  [ 75.  25.  75.  75.  75.]\n",
      "  [  0.  25.  25.  75.  75.]]]\n"
     ]
    }
   ],
   "source": [
    "print(d)\n",
    "print(f)"
   ]
  },
  {
   "cell_type": "markdown",
   "metadata": {},
   "source": [
    "#### 18. Bonus question: instead of using numbers (i.e. 0, 25, 50, 75, and 100), use string values  (\"A\", \"B\", \"C\", \"D\", and \"E\") to label the array elements. For the example above, the expected result is:\n",
    "\n",
    "```python\n",
    "[[[ 'D',  'D',  'D',  'B',  'D'],\n",
    "[ 'D',  'D',  'B',  'B',  'B'],\n",
    "[ 'D',  'B',  'D',  'D',  'D']],\n",
    "[[ 'B',  'B',  'B',  'B',  'E'],\n",
    "[ 'D',  'D',  'D',  'D',  'D'],\n",
    "[ 'B',  'D',   'A',  'D', 'D']]]\n",
    "```\n",
    "**Note**: you don't have to use Numpy in this question."
   ]
  },
  {
   "cell_type": "code",
   "execution_count": 52,
   "metadata": {},
   "outputs": [
    {
     "ename": "ValueError",
     "evalue": "could not convert string to float: 'B'",
     "output_type": "error",
     "traceback": [
      "\u001b[0;31m---------------------------------------------------------------------------\u001b[0m",
      "\u001b[0;31mValueError\u001b[0m                                Traceback (most recent call last)",
      "\u001b[0;32m<ipython-input-52-df7109285ab1>\u001b[0m in \u001b[0;36m<module>\u001b[0;34m\u001b[0m\n\u001b[0;32m----> 1\u001b[0;31m \u001b[0mf\u001b[0m\u001b[0;34m[\u001b[0m\u001b[0;34m(\u001b[0m\u001b[0md\u001b[0m \u001b[0;34m>\u001b[0m \u001b[0md_min\u001b[0m\u001b[0;34m)\u001b[0m \u001b[0;34m&\u001b[0m \u001b[0;34m(\u001b[0m\u001b[0md\u001b[0m \u001b[0;34m<\u001b[0m \u001b[0md_mean\u001b[0m\u001b[0;34m)\u001b[0m\u001b[0;34m]\u001b[0m\u001b[0;34m=\u001b[0m\u001b[0;34m'B'\u001b[0m\u001b[0;34m\u001b[0m\u001b[0;34m\u001b[0m\u001b[0m\n\u001b[0m\u001b[1;32m      2\u001b[0m \u001b[0mf\u001b[0m\u001b[0;34m[\u001b[0m\u001b[0;34m(\u001b[0m\u001b[0md\u001b[0m \u001b[0;34m>\u001b[0m \u001b[0md_mean\u001b[0m\u001b[0;34m)\u001b[0m \u001b[0;34m&\u001b[0m \u001b[0;34m(\u001b[0m\u001b[0md\u001b[0m \u001b[0;34m<\u001b[0m \u001b[0md_max\u001b[0m\u001b[0;34m)\u001b[0m\u001b[0;34m]\u001b[0m\u001b[0;34m=\u001b[0m\u001b[0;34m'D'\u001b[0m\u001b[0;34m\u001b[0m\u001b[0;34m\u001b[0m\u001b[0m\n\u001b[1;32m      3\u001b[0m \u001b[0mf\u001b[0m\u001b[0;34m[\u001b[0m\u001b[0md\u001b[0m \u001b[0;34m==\u001b[0m \u001b[0md_mean\u001b[0m\u001b[0;34m]\u001b[0m \u001b[0;34m=\u001b[0m\u001b[0;34m'C'\u001b[0m\u001b[0;34m\u001b[0m\u001b[0;34m\u001b[0m\u001b[0m\n\u001b[1;32m      4\u001b[0m \u001b[0mf\u001b[0m\u001b[0;34m[\u001b[0m\u001b[0md\u001b[0m \u001b[0;34m==\u001b[0m \u001b[0md_min\u001b[0m\u001b[0;34m]\u001b[0m \u001b[0;34m=\u001b[0m\u001b[0;34m'A'\u001b[0m\u001b[0;34m\u001b[0m\u001b[0;34m\u001b[0m\u001b[0m\n\u001b[1;32m      5\u001b[0m \u001b[0mf\u001b[0m\u001b[0;34m[\u001b[0m\u001b[0md\u001b[0m \u001b[0;34m==\u001b[0m \u001b[0md_max\u001b[0m\u001b[0;34m]\u001b[0m \u001b[0;34m=\u001b[0m\u001b[0;34m'E'\u001b[0m\u001b[0;34m\u001b[0m\u001b[0;34m\u001b[0m\u001b[0m\n",
      "\u001b[0;31mValueError\u001b[0m: could not convert string to float: 'B'"
     ]
    }
   ],
   "source": [
    "f[(d > d_min) & (d < d_mean)]='B'\n",
    "f[(d > d_mean) & (d < d_max)]='D'\n",
    "f[d == d_mean] ='C'\n",
    "f[d == d_min] ='A'\n",
    "f[d == d_max] ='E'"
   ]
  },
  {
   "cell_type": "code",
   "execution_count": null,
   "metadata": {},
   "outputs": [],
   "source": []
  }
 ],
 "metadata": {
  "kernelspec": {
   "display_name": "Python 3",
   "language": "python",
   "name": "python3"
  },
  "language_info": {
   "codemirror_mode": {
    "name": "ipython",
    "version": 3
   },
   "file_extension": ".py",
   "mimetype": "text/x-python",
   "name": "python",
   "nbconvert_exporter": "python",
   "pygments_lexer": "ipython3",
   "version": "3.8.3"
  }
 },
 "nbformat": 4,
 "nbformat_minor": 2
}
